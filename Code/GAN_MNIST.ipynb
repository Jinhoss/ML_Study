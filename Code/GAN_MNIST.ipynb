{
  "nbformat": 4,
  "nbformat_minor": 0,
  "metadata": {
    "colab": {
      "name": "GAN_MNIST.ipynb",
      "provenance": []
    },
    "kernelspec": {
      "name": "python3",
      "display_name": "Python 3"
    },
    "language_info": {
      "name": "python"
    },
    "accelerator": "GPU"
  },
  "cells": [
    {
      "cell_type": "code",
      "metadata": {
        "id": "VW8FnEI6VX4s"
      },
      "source": [
        "import torch\n",
        "import torch.nn as nn\n",
        "from torchvision import datasets\n",
        "import torchvision.transforms as transforms\n",
        "from torchvision.utils import save_image"
      ],
      "execution_count": 1,
      "outputs": []
    },
    {
      "cell_type": "code",
      "metadata": {
        "id": "Mw428h8FVtAj"
      },
      "source": [
        "latent_dim = 100\n",
        "\n",
        "# def of Generator class\n",
        "class Generator(nn.Module):\n",
        "    def  __init__(self):\n",
        "        super(Generator, self).__init__()\n",
        "\n",
        "        # def of block\n",
        "        def block(input_dim, output_dim, normalize = True):\n",
        "            layers = [nn.Linear(input_dim, output_dim)]\n",
        "            if normalize:\n",
        "                # batch normalization\n",
        "                layers.append(nn.BatchNorm1d(output_dim, 0.8))\n",
        "            layers.append(nn.LeakyReLU(0.2, inplace=True))\n",
        "            return layers\n",
        "\n",
        "        self.model = nn.Sequential(\n",
        "            *block(latent_dim, 128, normalize = False),\n",
        "            *block(128, 256),\n",
        "            *block(256, 512),\n",
        "            *block(512, 1024),\n",
        "            nn.Linear(1024, 1 * 28 * 28),\n",
        "            nn.Tanh()\n",
        "        )\n",
        "\n",
        "    def forward(self, z):\n",
        "        img = self.model(z)\n",
        "        img = img.view(img.size(0), 1, 28, 28)\n",
        "        return img"
      ],
      "execution_count": 11,
      "outputs": []
    },
    {
      "cell_type": "code",
      "metadata": {
        "id": "m5NstzVOgsoJ"
      },
      "source": [
        "# Def of Discriminator class\n",
        "class Discriminator(nn.Module):\n",
        "    def __init__(self):\n",
        "        super(Discriminator, self).__init__()\n",
        "\n",
        "        self.model = nn.Sequential(\n",
        "            nn.Linear(1 * 28 * 28, 512),\n",
        "            nn.LeakyReLU(0.2, inplace = True),\n",
        "            nn.Linear(512, 256),\n",
        "            nn.LeakyReLU(0.2, inplace = True),\n",
        "            nn.Linear(256, 1),\n",
        "            nn.Sigmoid(),\n",
        "        )\n",
        "    # return discriminated result of image \n",
        "    def forward(self, img):\n",
        "        flattened = img.view(img.size(0), -1)\n",
        "        output = self.model(flattened)\n",
        "\n",
        "        return output"
      ],
      "execution_count": 13,
      "outputs": []
    },
    {
      "cell_type": "code",
      "metadata": {
        "colab": {
          "base_uri": "https://localhost:8080/"
        },
        "id": "lNJS6IM4hcNm",
        "outputId": "c67a59b3-09c1-4ec0-840a-dccb501bde97"
      },
      "source": [
        "transforms_train = transforms.Compose([\n",
        "                                       transforms.Resize(28),\n",
        "                                       transforms.ToTensor(),\n",
        "                                       transforms.Normalize([0.5], [0.5])\n",
        "])\n",
        "\n",
        "train_dataset = datasets.MNIST(root = './dataset', train = True, download = True, \n",
        "                              transform = transforms_train)\n",
        "dataloader = torch.utils.data.DataLoader(train_dataset, batch_size = 128, shuffle = True,\n",
        "                                         num_workers = 4)"
      ],
      "execution_count": 24,
      "outputs": [
        {
          "output_type": "stream",
          "text": [
            "/usr/local/lib/python3.7/dist-packages/torch/utils/data/dataloader.py:477: UserWarning: This DataLoader will create 4 worker processes in total. Our suggested max number of worker in current system is 2, which is smaller than what this DataLoader is going to create. Please be aware that excessive worker creation might get DataLoader running slow or even freeze, lower the worker number to avoid potential slowness/freeze if necessary.\n",
            "  cpuset_checked))\n"
          ],
          "name": "stderr"
        }
      ]
    },
    {
      "cell_type": "code",
      "metadata": {
        "id": "EHp3SYPGiF7Q"
      },
      "source": [
        "# generator, discriminator 초기화\n",
        "generator = Generator()\n",
        "discriminator = Discriminator()\n",
        "\n",
        "generator.cuda()\n",
        "discriminator.cuda()\n",
        "\n",
        "# loss function\n",
        "adversarial_loss = nn.BCELoss()\n",
        "adversarial_loss.cuda()\n",
        "\n",
        "# learning rate\n",
        "lr = 2e-4\n",
        "\n",
        "# optimizer of generator and discriminaor\n",
        "optimizer_G = torch.optim.Adam(generator.parameters(), lr = lr, betas = (0.5, 0.999))\n",
        "optimizer_D = torch.optim.Adam(discriminator.parameters(), lr = lr, betas = (0.5, 0.999))"
      ],
      "execution_count": 25,
      "outputs": []
    },
    {
      "cell_type": "code",
      "metadata": {
        "colab": {
          "base_uri": "https://localhost:8080/"
        },
        "id": "_DxaaKv-ijuh",
        "outputId": "fb8a45a4-22db-4854-ef42-4e423ba237c3"
      },
      "source": [
        "import time\n",
        "\n",
        "n_epochs = 100 # learning epoch\n",
        "sample_interval = 2000 # print result per {num} batchs\n",
        "start_time = time.time()\n",
        "\n",
        "for epoch in range(n_epochs):\n",
        "    for i, (imgs, _) in enumerate(dataloader):\n",
        "        # create real/fake answer label\n",
        "        real = torch.cuda.FloatTensor(imgs.size(0), 1).fill_(1.0) # real : 1\n",
        "        fake = torch.cuda.FloatTensor(imgs.size(0), 1).fill_(0.0) # fake : 0\n",
        "\n",
        "        real_imgs = imgs.cuda()\n",
        "\n",
        "        \"\"\" 생성자(geneator)를 학습합니다.\"\"\"\n",
        "        optimizer_G.zero_grad()\n",
        "\n",
        "        # random noise sampling\n",
        "        z = torch.normal(mean = 0, std = 1, size = (imgs.shape[0], latent_dim)).cuda()\n",
        "\n",
        "        # create image\n",
        "        generated_imgs = generator(z)\n",
        "\n",
        "        # calculate generator's loss\n",
        "        g_loss = adversarial_loss(discriminator(generated_imgs), real)\n",
        "\n",
        "        # Update generator\n",
        "        g_loss.backward()\n",
        "        optimizer_G.step()\n",
        "\n",
        "        \"\"\" 판별자(discriminator)를 학습합니다. \"\"\"\n",
        "        optimizer_D.zero_grad()\n",
        "\n",
        "        # calculate discriminator's loss\n",
        "        real_loss = adversarial_loss(discriminator(real_imgs), real)\n",
        "        fake_loss = adversarial_loss(discriminator(generated_imgs.detach()), fake)\n",
        "        \n",
        "        d_loss = (real_loss + fake_loss) / 2\n",
        "\n",
        "        # Update discriminator\n",
        "        d_loss.backward()\n",
        "        optimizer_D.step()\n",
        "\n",
        "        done = epoch * len(dataloader) + i\n",
        "        if done % sample_interval == 0:\n",
        "            # selet 25 images, print 5x5 grid image\n",
        "            save_image(generated_imgs.data[:25], f'{done}.png', nrow = 5, normalize = True)\n",
        "    # at the end of each epoch, print ouput log\n",
        "    print(f'[Epoch {epoch}/{n_epochs}] [D loss: {d_loss.item():.6f}] [G loss:{g_loss.item():.6f}] [Elapsed_time: {time.time() - start_time:.2f}s]')"
      ],
      "execution_count": 30,
      "outputs": [
        {
          "output_type": "stream",
          "text": [
            "/usr/local/lib/python3.7/dist-packages/torch/utils/data/dataloader.py:477: UserWarning: This DataLoader will create 4 worker processes in total. Our suggested max number of worker in current system is 2, which is smaller than what this DataLoader is going to create. Please be aware that excessive worker creation might get DataLoader running slow or even freeze, lower the worker number to avoid potential slowness/freeze if necessary.\n",
            "  cpuset_checked))\n"
          ],
          "name": "stderr"
        },
        {
          "output_type": "stream",
          "text": [
            "[Epoch 0/100] [D loss: 0.720253] [G loss:0.344973] [Elapsed_time: 29.77s]\n",
            "[Epoch 1/100] [D loss: 0.752733] [G loss:0.309972] [Elapsed_time: 39.66s]\n",
            "[Epoch 2/100] [D loss: 0.283746] [G loss:1.476254] [Elapsed_time: 49.21s]\n",
            "[Epoch 3/100] [D loss: 0.330643] [G loss:1.877248] [Elapsed_time: 58.69s]\n",
            "[Epoch 4/100] [D loss: 0.276913] [G loss:1.072028] [Elapsed_time: 68.40s]\n",
            "[Epoch 5/100] [D loss: 0.380435] [G loss:0.990516] [Elapsed_time: 78.16s]\n",
            "[Epoch 6/100] [D loss: 0.413259] [G loss:0.655024] [Elapsed_time: 87.80s]\n",
            "[Epoch 7/100] [D loss: 0.554847] [G loss:0.548696] [Elapsed_time: 97.25s]\n",
            "[Epoch 8/100] [D loss: 0.216522] [G loss:1.587255] [Elapsed_time: 106.93s]\n",
            "[Epoch 9/100] [D loss: 0.211969] [G loss:1.322815] [Elapsed_time: 116.42s]\n",
            "[Epoch 10/100] [D loss: 0.185696] [G loss:2.036755] [Elapsed_time: 126.00s]\n",
            "[Epoch 11/100] [D loss: 0.281566] [G loss:3.587277] [Elapsed_time: 135.78s]\n",
            "[Epoch 12/100] [D loss: 0.403602] [G loss:0.996358] [Elapsed_time: 145.29s]\n",
            "[Epoch 13/100] [D loss: 0.199275] [G loss:1.724630] [Elapsed_time: 154.87s]\n",
            "[Epoch 14/100] [D loss: 0.452553] [G loss:0.711345] [Elapsed_time: 164.35s]\n",
            "[Epoch 15/100] [D loss: 0.699428] [G loss:5.368346] [Elapsed_time: 174.06s]\n",
            "[Epoch 16/100] [D loss: 0.273031] [G loss:2.121736] [Elapsed_time: 183.59s]\n",
            "[Epoch 17/100] [D loss: 0.152324] [G loss:2.300181] [Elapsed_time: 193.14s]\n",
            "[Epoch 18/100] [D loss: 0.190926] [G loss:1.566707] [Elapsed_time: 202.80s]\n",
            "[Epoch 19/100] [D loss: 0.105586] [G loss:2.207421] [Elapsed_time: 212.42s]\n",
            "[Epoch 20/100] [D loss: 0.205685] [G loss:2.186569] [Elapsed_time: 221.98s]\n",
            "[Epoch 21/100] [D loss: 0.134607] [G loss:3.259651] [Elapsed_time: 231.54s]\n",
            "[Epoch 22/100] [D loss: 0.437150] [G loss:4.893999] [Elapsed_time: 241.32s]\n",
            "[Epoch 23/100] [D loss: 0.210957] [G loss:1.917435] [Elapsed_time: 251.05s]\n",
            "[Epoch 24/100] [D loss: 0.218733] [G loss:2.685654] [Elapsed_time: 260.58s]\n",
            "[Epoch 25/100] [D loss: 0.281463] [G loss:1.386224] [Elapsed_time: 270.23s]\n",
            "[Epoch 26/100] [D loss: 0.345999] [G loss:3.256045] [Elapsed_time: 279.81s]\n",
            "[Epoch 27/100] [D loss: 0.175707] [G loss:3.466411] [Elapsed_time: 289.47s]\n",
            "[Epoch 28/100] [D loss: 0.212794] [G loss:1.788800] [Elapsed_time: 299.09s]\n",
            "[Epoch 29/100] [D loss: 0.152570] [G loss:2.204741] [Elapsed_time: 308.89s]\n",
            "[Epoch 30/100] [D loss: 0.355575] [G loss:1.300831] [Elapsed_time: 318.46s]\n",
            "[Epoch 31/100] [D loss: 0.229668] [G loss:1.991692] [Elapsed_time: 328.14s]\n",
            "[Epoch 32/100] [D loss: 0.277364] [G loss:2.597360] [Elapsed_time: 338.03s]\n",
            "[Epoch 33/100] [D loss: 0.252971] [G loss:3.776052] [Elapsed_time: 347.62s]\n",
            "[Epoch 34/100] [D loss: 0.276766] [G loss:2.301532] [Elapsed_time: 357.13s]\n",
            "[Epoch 35/100] [D loss: 0.258331] [G loss:3.015242] [Elapsed_time: 366.72s]\n",
            "[Epoch 36/100] [D loss: 0.507636] [G loss:0.664334] [Elapsed_time: 376.36s]\n",
            "[Epoch 37/100] [D loss: 0.130885] [G loss:2.562762] [Elapsed_time: 385.95s]\n",
            "[Epoch 38/100] [D loss: 0.281247] [G loss:2.602173] [Elapsed_time: 395.68s]\n",
            "[Epoch 39/100] [D loss: 0.272287] [G loss:2.400309] [Elapsed_time: 405.49s]\n",
            "[Epoch 40/100] [D loss: 0.386655] [G loss:3.444335] [Elapsed_time: 415.02s]\n",
            "[Epoch 41/100] [D loss: 0.469905] [G loss:4.551588] [Elapsed_time: 424.63s]\n",
            "[Epoch 42/100] [D loss: 0.241640] [G loss:3.014524] [Elapsed_time: 434.41s]\n",
            "[Epoch 43/100] [D loss: 0.265904] [G loss:2.517136] [Elapsed_time: 443.91s]\n",
            "[Epoch 44/100] [D loss: 0.230314] [G loss:1.619467] [Elapsed_time: 453.58s]\n",
            "[Epoch 45/100] [D loss: 0.345010] [G loss:1.130432] [Elapsed_time: 463.21s]\n",
            "[Epoch 46/100] [D loss: 0.316929] [G loss:1.304062] [Elapsed_time: 473.07s]\n",
            "[Epoch 47/100] [D loss: 0.267477] [G loss:1.707402] [Elapsed_time: 482.63s]\n",
            "[Epoch 48/100] [D loss: 0.189366] [G loss:1.937837] [Elapsed_time: 492.20s]\n",
            "[Epoch 49/100] [D loss: 0.221284] [G loss:1.913175] [Elapsed_time: 502.00s]\n",
            "[Epoch 50/100] [D loss: 0.313941] [G loss:1.524497] [Elapsed_time: 511.67s]\n",
            "[Epoch 51/100] [D loss: 0.318411] [G loss:2.353195] [Elapsed_time: 521.24s]\n",
            "[Epoch 52/100] [D loss: 0.639119] [G loss:4.347952] [Elapsed_time: 530.92s]\n",
            "[Epoch 53/100] [D loss: 0.850640] [G loss:5.099993] [Elapsed_time: 540.59s]\n",
            "[Epoch 54/100] [D loss: 0.199300] [G loss:2.100748] [Elapsed_time: 550.13s]\n",
            "[Epoch 55/100] [D loss: 0.227458] [G loss:1.556846] [Elapsed_time: 559.71s]\n",
            "[Epoch 56/100] [D loss: 0.574845] [G loss:4.397246] [Elapsed_time: 569.91s]\n",
            "[Epoch 57/100] [D loss: 0.445792] [G loss:1.076867] [Elapsed_time: 579.39s]\n",
            "[Epoch 58/100] [D loss: 0.298474] [G loss:1.829231] [Elapsed_time: 588.91s]\n",
            "[Epoch 59/100] [D loss: 0.310762] [G loss:1.310977] [Elapsed_time: 598.59s]\n",
            "[Epoch 60/100] [D loss: 0.250130] [G loss:1.521654] [Elapsed_time: 608.17s]\n",
            "[Epoch 61/100] [D loss: 0.333148] [G loss:2.521351] [Elapsed_time: 617.88s]\n",
            "[Epoch 62/100] [D loss: 0.287274] [G loss:2.087446] [Elapsed_time: 627.74s]\n",
            "[Epoch 63/100] [D loss: 0.292132] [G loss:1.927263] [Elapsed_time: 637.65s]\n",
            "[Epoch 64/100] [D loss: 0.307081] [G loss:1.851623] [Elapsed_time: 647.25s]\n",
            "[Epoch 65/100] [D loss: 0.249551] [G loss:1.758418] [Elapsed_time: 656.84s]\n",
            "[Epoch 66/100] [D loss: 0.404928] [G loss:1.133410] [Elapsed_time: 666.94s]\n",
            "[Epoch 67/100] [D loss: 0.259210] [G loss:2.040340] [Elapsed_time: 676.57s]\n",
            "[Epoch 68/100] [D loss: 0.232488] [G loss:2.685936] [Elapsed_time: 686.21s]\n",
            "[Epoch 69/100] [D loss: 0.248998] [G loss:2.413122] [Elapsed_time: 696.11s]\n",
            "[Epoch 70/100] [D loss: 0.295637] [G loss:1.854293] [Elapsed_time: 705.75s]\n",
            "[Epoch 71/100] [D loss: 0.354326] [G loss:2.581031] [Elapsed_time: 715.34s]\n",
            "[Epoch 72/100] [D loss: 0.258591] [G loss:1.853320] [Elapsed_time: 724.98s]\n",
            "[Epoch 73/100] [D loss: 0.271554] [G loss:1.772315] [Elapsed_time: 734.65s]\n",
            "[Epoch 74/100] [D loss: 0.351952] [G loss:1.661244] [Elapsed_time: 744.20s]\n",
            "[Epoch 75/100] [D loss: 0.299938] [G loss:2.176917] [Elapsed_time: 754.00s]\n",
            "[Epoch 76/100] [D loss: 0.426228] [G loss:3.421446] [Elapsed_time: 763.71s]\n",
            "[Epoch 77/100] [D loss: 0.346414] [G loss:1.460154] [Elapsed_time: 773.37s]\n",
            "[Epoch 78/100] [D loss: 0.313544] [G loss:1.592396] [Elapsed_time: 783.04s]\n",
            "[Epoch 79/100] [D loss: 0.305733] [G loss:1.510050] [Elapsed_time: 792.67s]\n",
            "[Epoch 80/100] [D loss: 0.270485] [G loss:2.045336] [Elapsed_time: 802.64s]\n",
            "[Epoch 81/100] [D loss: 0.247832] [G loss:1.587094] [Elapsed_time: 812.84s]\n",
            "[Epoch 82/100] [D loss: 0.291162] [G loss:1.825463] [Elapsed_time: 822.82s]\n",
            "[Epoch 83/100] [D loss: 0.275297] [G loss:2.124799] [Elapsed_time: 832.89s]\n",
            "[Epoch 84/100] [D loss: 0.264946] [G loss:2.541908] [Elapsed_time: 842.88s]\n",
            "[Epoch 85/100] [D loss: 0.328750] [G loss:1.394263] [Elapsed_time: 852.53s]\n",
            "[Epoch 86/100] [D loss: 0.298278] [G loss:1.889704] [Elapsed_time: 862.26s]\n",
            "[Epoch 87/100] [D loss: 0.306561] [G loss:1.554972] [Elapsed_time: 872.09s]\n",
            "[Epoch 88/100] [D loss: 0.308395] [G loss:1.223540] [Elapsed_time: 881.64s]\n",
            "[Epoch 89/100] [D loss: 0.317969] [G loss:2.044693] [Elapsed_time: 891.24s]\n",
            "[Epoch 90/100] [D loss: 0.301623] [G loss:3.633733] [Elapsed_time: 901.12s]\n",
            "[Epoch 91/100] [D loss: 0.263603] [G loss:1.950382] [Elapsed_time: 910.75s]\n",
            "[Epoch 92/100] [D loss: 0.334867] [G loss:2.385820] [Elapsed_time: 920.32s]\n",
            "[Epoch 93/100] [D loss: 0.279607] [G loss:2.342676] [Elapsed_time: 930.44s]\n",
            "[Epoch 94/100] [D loss: 0.293681] [G loss:2.504327] [Elapsed_time: 940.17s]\n",
            "[Epoch 95/100] [D loss: 0.288122] [G loss:2.334594] [Elapsed_time: 949.81s]\n",
            "[Epoch 96/100] [D loss: 0.265876] [G loss:2.081929] [Elapsed_time: 959.56s]\n",
            "[Epoch 97/100] [D loss: 0.318904] [G loss:1.110103] [Elapsed_time: 969.35s]\n",
            "[Epoch 98/100] [D loss: 0.168012] [G loss:2.735034] [Elapsed_time: 978.99s]\n",
            "[Epoch 99/100] [D loss: 0.324093] [G loss:1.825366] [Elapsed_time: 988.83s]\n"
          ],
          "name": "stdout"
        }
      ]
    },
    {
      "cell_type": "code",
      "metadata": {
        "colab": {
          "base_uri": "https://localhost:8080/",
          "height": 169
        },
        "id": "bCBV3HNXjjKO",
        "outputId": "02b2ea64-0452-47d9-f669-b79b7c9786ea"
      },
      "source": [
        "from IPython.display import Image\n",
        "\n",
        "Image('30000.png')"
      ],
      "execution_count": 31,
      "outputs": [
        {
          "output_type": "execute_result",
          "data": {
            "image/png": "[encoded data removed]",
            "text/plain": [
              "<IPython.core.display.Image object>"
            ]
          },
          "metadata": {
            "tags": []
          },
          "execution_count": 31
        }
      ]
    },
    {
      "cell_type": "code",
      "metadata": {
        "id": "64DyG4pBup2p"
      },
      "source": [
        ""
      ],
      "execution_count": null,
      "outputs": []
    }
  ]
}